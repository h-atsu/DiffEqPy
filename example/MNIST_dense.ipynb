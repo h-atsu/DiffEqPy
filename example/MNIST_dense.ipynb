{
 "cells": [
  {
   "cell_type": "code",
   "execution_count": 1,
   "metadata": {},
   "outputs": [],
   "source": [
    "from DiffEqPy import Variable, DataLoader\n",
    "from DiffEqPy.functions import *\n",
    "from DiffEqPy.utils import *\n",
    "from DiffEqPy.layers import *\n",
    "from DiffEqPy.models import MLP\n",
    "from DiffEqPy.optimizers import SGD\n",
    "from DiffEqPy.datasets import *\n",
    "import DiffEqPy\n",
    "import matplotlib.pyplot as plt\n",
    "import numpy as np\n",
    "import math\n",
    "import time\n",
    "import os"
   ]
  },
  {
   "cell_type": "code",
   "execution_count": 2,
   "metadata": {},
   "outputs": [],
   "source": [
    "def f(x):\n",
    "    x = x.flatten()\n",
    "    x = x.astype(np.float32)\n",
    "    x /= 255.\n",
    "    return x"
   ]
  },
  {
   "cell_type": "code",
   "execution_count": 3,
   "metadata": {},
   "outputs": [],
   "source": [
    "batch_size = 100\n",
    "max_epoch = 5\n",
    "hidden_size = 1000\n",
    "\n",
    "train_set = MNIST(train = True, transform=f)\n",
    "test_set = MNIST(train = False, transform=f)\n",
    "train_loader = DataLoader(train_set , batch_size)\n",
    "test_loader = DataLoader(test_set , batch_size, shuffle=False)\n",
    "\n",
    "model = MLP((hidden_size, hidden_size,10), activation = F.relu)\n",
    "optimizer = SGD(1e-2).setup(model)"
   ]
  },
  {
   "cell_type": "code",
   "execution_count": 4,
   "metadata": {},
   "outputs": [
    {
     "name": "stdout",
     "output_type": "stream",
     "text": [
      "5\n"
     ]
    },
    {
     "data": {
      "text/plain": [
       "<matplotlib.image.AxesImage at 0x7f89dcfdb760>"
      ]
     },
     "execution_count": 4,
     "metadata": {},
     "output_type": "execute_result"
    },
    {
     "data": {
      "image/png": "[encoded data removed]",
      "text/plain": [
       "<Figure size 432x288 with 1 Axes>"
      ]
     },
     "metadata": {
      "needs_background": "light"
     },
     "output_type": "display_data"
    }
   ],
   "source": [
    "x,t = train_set[0]\n",
    "print(t)\n",
    "plt.imshow(x.reshape(28,28))"
   ]
  },
  {
   "cell_type": "code",
   "execution_count": 5,
   "metadata": {},
   "outputs": [],
   "source": [
    "if DiffEqPy.cuda.gpu_enable:\n",
    "    train_loader.to_gpu()\n",
    "    test_loader.to_gpu()\n",
    "    model.to_gpu()"
   ]
  },
  {
   "cell_type": "code",
   "execution_count": 6,
   "metadata": {},
   "outputs": [
    {
     "name": "stdout",
     "output_type": "stream",
     "text": [
      "epoch: 1, time: 4.838318347930908\n",
      "train loss: 1.0534, accuracy: 0.7831\n",
      "test loss: 0.4813, accuracy: 0.8814\n",
      "epoch: 2, time: 4.612078428268433\n",
      "train loss: 0.4176, accuracy: 0.8900\n",
      "test loss: 0.3442, accuracy: 0.9063\n",
      "epoch: 3, time: 4.606511354446411\n",
      "train loss: 0.3362, accuracy: 0.9069\n",
      "test loss: 0.2984, accuracy: 0.9169\n",
      "epoch: 4, time: 4.605921506881714\n",
      "train loss: 0.2982, accuracy: 0.9161\n",
      "test loss: 0.2698, accuracy: 0.9269\n",
      "epoch: 5, time: 4.6086859703063965\n",
      "train loss: 0.2731, accuracy: 0.9229\n",
      "test loss: 0.2508, accuracy: 0.9317\n"
     ]
    }
   ],
   "source": [
    "ret = {}\n",
    "ret[\"train_loss\"] = []\n",
    "ret[\"test_loss\"] = []\n",
    "ret[\"train_accuracy\"] = []\n",
    "ret[\"test_accuracy\"] = []\n",
    "\n",
    "for epoch in range(max_epoch):\n",
    "    start = time.time()\n",
    "    sum_loss, sum_acc = 0, 0    \n",
    "    \n",
    "    for x,t in train_loader:\n",
    "        y = model(x)\n",
    "        loss = F.softmax_cross_entropy(y, t)\n",
    "        acc = F.accuracy(y, t)\n",
    "        model.cleargrads()\n",
    "        loss.backward()\n",
    "        optimizer.update()\n",
    "        \n",
    "        sum_loss += float(loss.data) * len(t)\n",
    "        sum_acc += float(acc.data) * len(t)\n",
    "\n",
    "    end = time.time()\n",
    "    print(\"epoch: {}, time: {}\".format(epoch+1, end - start))\n",
    "    print(\"train loss: {:.4f}, accuracy: {:.4f}\".format(sum_loss / len(train_set), sum_acc / len(train_set)))\n",
    "    ret[\"train_loss\"].append(sum_loss / len(train_set))\n",
    "    ret[\"train_accuracy\"].append(sum_acc / len(train_set))\n",
    "        \n",
    "    sum_loss, sum_acc = 0,0\n",
    "    with DiffEqPy.no_grad():\n",
    "        for x,t in test_loader:\n",
    "            y = model(x)\n",
    "            loss = F.softmax_cross_entropy(y, t)\n",
    "            acc = F.accuracy(y,t)\n",
    "            sum_loss += float(loss.data) * len(t)\n",
    "            sum_acc += float(acc.data) * len(t)\n",
    "    print(\"test loss: {:.4f}, accuracy: {:.4f}\".format(sum_loss / len(test_set), sum_acc / len(test_set)))\n",
    "    ret[\"test_loss\"].append(sum_loss / len(test_set))\n",
    "    ret[\"test_accuracy\"].append(sum_acc / len(test_set))"
   ]
  },
  {
   "cell_type": "code",
   "execution_count": 7,
   "metadata": {},
   "outputs": [
    {
     "data": {
      "text/plain": [
       "[<matplotlib.lines.Line2D at 0x7f89d2ddfa90>]"
      ]
     },
     "execution_count": 7,
     "metadata": {},
     "output_type": "execute_result"
    },
    {
     "data": {
      "image/png": "[encoded data removed]",
      "text/plain": [
       "<Figure size 432x288 with 1 Axes>"
      ]
     },
     "metadata": {
      "needs_background": "light"
     },
     "output_type": "display_data"
    }
   ],
   "source": [
    "plt.plot(ret[\"train_loss\"])\n",
    "plt.plot(ret[\"test_loss\"])"
   ]
  },
  {
   "cell_type": "code",
   "execution_count": 8,
   "metadata": {},
   "outputs": [
    {
     "data": {
      "text/plain": [
       "[<matplotlib.lines.Line2D at 0x7f89d2d658b0>]"
      ]
     },
     "execution_count": 8,
     "metadata": {},
     "output_type": "execute_result"
    },
    {
     "data": {
      "image/png": "[encoded data removed]",
      "text/plain": [
       "<Figure size 432x288 with 1 Axes>"
      ]
     },
     "metadata": {
      "needs_background": "light"
     },
     "output_type": "display_data"
    }
   ],
   "source": [
    "plt.plot(ret[\"train_accuracy\"])\n",
    "plt.plot(ret[\"test_accuracy\"])"
   ]
  }
 ],
 "metadata": {
  "kernelspec": {
   "display_name": "Python 3 (ipykernel)",
   "language": "python",
   "name": "python3"
  },
  "language_info": {
   "codemirror_mode": {
    "name": "ipython",
    "version": 3
   },
   "file_extension": ".py",
   "mimetype": "text/x-python",
   "name": "python",
   "nbconvert_exporter": "python",
   "pygments_lexer": "ipython3",
   "version": "3.8.8"
  }
 },
 "nbformat": 4,
 "nbformat_minor": 4
}
