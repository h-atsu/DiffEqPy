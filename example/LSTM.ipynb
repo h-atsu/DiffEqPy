{
 "cells": [
  {
   "cell_type": "code",
   "execution_count": 1,
   "id": "601b8845-2177-41cb-bcd9-f31ab18630a8",
   "metadata": {},
   "outputs": [],
   "source": [
    "from DiffEqPy import Variable, DataLoader, test_mode\n",
    "from DiffEqPy.functions import *\n",
    "from DiffEqPy.utils import *\n",
    "from DiffEqPy.layers import *\n",
    "from DiffEqPy.models import MLP, VGG16, Model\n",
    "from DiffEqPy.optimizers import SGD\n",
    "from DiffEqPy.datasets import *\n",
    "from DiffEqPy.dataloaders import SeqDataLoader\n",
    "import DiffEqPy\n",
    "import matplotlib.pyplot as plt\n",
    "import numpy as np\n",
    "import math\n",
    "import time\n",
    "from PIL import Image\n",
    "\n",
    "\n",
    "\n",
    "max_epoch = 100\n",
    "batch_size = 5\n",
    "hidden_size = 100\n",
    "bptt_length = 30\n",
    "\n",
    "train_set = DiffEqPy.datasets.SinCurve(train=True)\n",
    "dataloader = SeqDataLoader(train_set, batch_size = batch_size)\n",
    "seqlen = len(train_set)"
   ]
  },
  {
   "cell_type": "code",
   "execution_count": 2,
   "id": "9d9101db-53bf-40eb-968b-26f0357890b4",
   "metadata": {},
   "outputs": [
    {
     "data": {
      "image/png": "[encoded data removed]",
      "text/plain": [
       "<Figure size 432x288 with 1 Axes>"
      ]
     },
     "metadata": {
      "needs_background": "light"
     },
     "output_type": "display_data"
    }
   ],
   "source": [
    "X = []\n",
    "Y = []\n",
    "for x,y in dataloader:\n",
    "    X.append(x.reshape(-1))\n",
    "    Y.append(y.reshape(-1))\n",
    "X = np.array(X)\n",
    "Y = np.array(Y)    \n",
    "for i in range(batch_size):\n",
    "    plt.plot(range(len(X)*i, len(X)*(i+1)), X[:,i])"
   ]
  },
  {
   "cell_type": "code",
   "execution_count": 3,
   "id": "9563f75b-25cb-4099-868e-0cedbec73c24",
   "metadata": {},
   "outputs": [],
   "source": [
    "class BetterRNN(Model):\n",
    "    def __init__(self, hidden_size, out_size):\n",
    "        super().__init__()\n",
    "        self.rnn = LSTM(hidden_size)\n",
    "        self.fc = Linear(out_size)\n",
    "    \n",
    "    def reset_state(self):\n",
    "        self.rnn.reset_state()\n",
    "    \n",
    "    def forward(self, x):\n",
    "        y = self.rnn(x)\n",
    "        y = self.fc(x)\n",
    "        return y"
   ]
  },
  {
   "cell_type": "code",
   "execution_count": 4,
   "id": "486f7daa-fa9b-4ab3-b922-556802cedfad",
   "metadata": {},
   "outputs": [
    {
     "name": "stdout",
     "output_type": "stream",
     "text": [
      "| epoch 1 | loss 0.009480\n",
      "| epoch 2 | loss 0.007077\n",
      "| epoch 3 | loss 0.005412\n",
      "| epoch 4 | loss 0.004257\n",
      "| epoch 5 | loss 0.003456\n",
      "| epoch 6 | loss 0.002900\n",
      "| epoch 7 | loss 0.002515\n",
      "| epoch 8 | loss 0.002248\n",
      "| epoch 9 | loss 0.002063\n",
      "| epoch 10 | loss 0.001935\n",
      "| epoch 11 | loss 0.001846\n",
      "| epoch 12 | loss 0.001784\n",
      "| epoch 13 | loss 0.001741\n",
      "| epoch 14 | loss 0.001711\n",
      "| epoch 15 | loss 0.001691\n",
      "| epoch 16 | loss 0.001676\n",
      "| epoch 17 | loss 0.001667\n",
      "| epoch 18 | loss 0.001660\n",
      "| epoch 19 | loss 0.001655\n",
      "| epoch 20 | loss 0.001652\n",
      "| epoch 21 | loss 0.001649\n",
      "| epoch 22 | loss 0.001648\n",
      "| epoch 23 | loss 0.001647\n",
      "| epoch 24 | loss 0.001646\n",
      "| epoch 25 | loss 0.001645\n",
      "| epoch 26 | loss 0.001645\n",
      "| epoch 27 | loss 0.001645\n",
      "| epoch 28 | loss 0.001645\n",
      "| epoch 29 | loss 0.001644\n",
      "| epoch 30 | loss 0.001644\n",
      "| epoch 31 | loss 0.001644\n",
      "| epoch 32 | loss 0.001644\n",
      "| epoch 33 | loss 0.001644\n",
      "| epoch 34 | loss 0.001644\n",
      "| epoch 35 | loss 0.001644\n",
      "| epoch 36 | loss 0.001644\n",
      "| epoch 37 | loss 0.001644\n",
      "| epoch 38 | loss 0.001644\n",
      "| epoch 39 | loss 0.001644\n",
      "| epoch 40 | loss 0.001644\n",
      "| epoch 41 | loss 0.001644\n",
      "| epoch 42 | loss 0.001644\n",
      "| epoch 43 | loss 0.001644\n",
      "| epoch 44 | loss 0.001644\n",
      "| epoch 45 | loss 0.001644\n",
      "| epoch 46 | loss 0.001644\n",
      "| epoch 47 | loss 0.001644\n",
      "| epoch 48 | loss 0.001644\n",
      "| epoch 49 | loss 0.001644\n",
      "| epoch 50 | loss 0.001644\n",
      "| epoch 51 | loss 0.001644\n",
      "| epoch 52 | loss 0.001644\n",
      "| epoch 53 | loss 0.001644\n",
      "| epoch 54 | loss 0.001644\n",
      "| epoch 55 | loss 0.001644\n",
      "| epoch 56 | loss 0.001644\n",
      "| epoch 57 | loss 0.001644\n",
      "| epoch 58 | loss 0.001644\n",
      "| epoch 59 | loss 0.001644\n",
      "| epoch 60 | loss 0.001644\n",
      "| epoch 61 | loss 0.001644\n",
      "| epoch 62 | loss 0.001644\n",
      "| epoch 63 | loss 0.001644\n",
      "| epoch 64 | loss 0.001644\n",
      "| epoch 65 | loss 0.001644\n",
      "| epoch 66 | loss 0.001644\n",
      "| epoch 67 | loss 0.001644\n",
      "| epoch 68 | loss 0.001644\n",
      "| epoch 69 | loss 0.001644\n",
      "| epoch 70 | loss 0.001644\n",
      "| epoch 71 | loss 0.001644\n",
      "| epoch 72 | loss 0.001644\n",
      "| epoch 73 | loss 0.001644\n",
      "| epoch 74 | loss 0.001644\n",
      "| epoch 75 | loss 0.001644\n",
      "| epoch 76 | loss 0.001644\n",
      "| epoch 77 | loss 0.001644\n",
      "| epoch 78 | loss 0.001644\n",
      "| epoch 79 | loss 0.001644\n",
      "| epoch 80 | loss 0.001644\n",
      "| epoch 81 | loss 0.001644\n",
      "| epoch 82 | loss 0.001644\n",
      "| epoch 83 | loss 0.001644\n",
      "| epoch 84 | loss 0.001644\n",
      "| epoch 85 | loss 0.001644\n",
      "| epoch 86 | loss 0.001644\n",
      "| epoch 87 | loss 0.001644\n",
      "| epoch 88 | loss 0.001644\n",
      "| epoch 89 | loss 0.001644\n",
      "| epoch 90 | loss 0.001644\n",
      "| epoch 91 | loss 0.001644\n",
      "| epoch 92 | loss 0.001644\n",
      "| epoch 93 | loss 0.001644\n",
      "| epoch 94 | loss 0.001644\n",
      "| epoch 95 | loss 0.001644\n",
      "| epoch 96 | loss 0.001644\n",
      "| epoch 97 | loss 0.001644\n",
      "| epoch 98 | loss 0.001644\n",
      "| epoch 99 | loss 0.001644\n",
      "| epoch 100 | loss 0.001644\n"
     ]
    }
   ],
   "source": [
    "model = BetterRNN(hidden_size, 1)\n",
    "optimizer = SGD(lr=0.001).setup(model)\n",
    "\n",
    "# Start training.\n",
    "for epoch in range(max_epoch):\n",
    "    model.reset_state()\n",
    "    loss, count = 0, 0\n",
    "\n",
    "    for x, t in dataloader:\n",
    "        y = model(x)\n",
    "        loss += F.mean_squared_error(y, t)\n",
    "        count += 1\n",
    "\n",
    "        if count % bptt_length == 0 or count == seqlen:\n",
    "            model.cleargrads()\n",
    "            loss.backward()\n",
    "            loss.unchain_backward()\n",
    "            optimizer.update()\n",
    "\n",
    "    avg_loss = float(loss.data) / count\n",
    "    print('| epoch %d | loss %f' % (epoch + 1, avg_loss))"
   ]
  },
  {
   "cell_type": "code",
   "execution_count": 5,
   "id": "a90032d2-e032-4819-99da-253a3ba1782c",
   "metadata": {},
   "outputs": [
    {
     "data": {
      "image/png": "[encoded data removed]",
      "text/plain": [
       "<Figure size 432x288 with 1 Axes>"
      ]
     },
     "metadata": {
      "needs_background": "light"
     },
     "output_type": "display_data"
    }
   ],
   "source": [
    "# Plot\n",
    "xs = np.cos(np.linspace(0, 4 * np.pi, 1000))\n",
    "model.reset_state()\n",
    "pred_list = []\n",
    "\n",
    "with DiffEqPy.no_grad():\n",
    "    for x in xs:\n",
    "        x = np.array(x).reshape(1, 1)\n",
    "        y = model(x)\n",
    "        pred_list.append(float(y.data))\n",
    "\n",
    "plt.plot(np.arange(len(xs)), xs, label='y=cos(x)')\n",
    "plt.plot(np.arange(len(xs)), pred_list, label='predict')\n",
    "plt.xlabel('x')\n",
    "plt.ylabel('y')\n",
    "plt.legend()\n",
    "plt.show()\n"
   ]
  }
 ],
 "metadata": {
  "kernelspec": {
   "display_name": "Python 3 (ipykernel)",
   "language": "python",
   "name": "python3"
  },
  "language_info": {
   "codemirror_mode": {
    "name": "ipython",
    "version": 3
   },
   "file_extension": ".py",
   "mimetype": "text/x-python",
   "name": "python",
   "nbconvert_exporter": "python",
   "pygments_lexer": "ipython3",
   "version": "3.8.8"
  }
 },
 "nbformat": 4,
 "nbformat_minor": 5
}
