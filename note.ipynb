{
 "cells": [
  {
   "cell_type": "code",
   "execution_count": 1,
   "metadata": {},
   "outputs": [],
   "source": [
    "from DiffEqPy import Variable, DataLoader\n",
    "from DiffEqPy.functions import *\n",
    "from DiffEqPy.utils import *\n",
    "from DiffEqPy.layers import *\n",
    "from DiffEqPy.models import MLP\n",
    "from DiffEqPy.optimizers import SGD\n",
    "from DiffEqPy.datasets import *\n",
    "import DiffEqPy\n",
    "import matplotlib.pyplot as plt\n",
    "import numpy as np\n",
    "import math"
   ]
  },
  {
   "cell_type": "code",
   "execution_count": 2,
   "metadata": {},
   "outputs": [],
   "source": [
    "def f(x):\n",
    "    x = x.flatten()\n",
    "    x = x.astype(np.float32)\n",
    "    x /= 255.\n",
    "    return x"
   ]
  },
  {
   "cell_type": "code",
   "execution_count": 3,
   "metadata": {},
   "outputs": [],
   "source": [
    "batch_size = 100\n",
    "max_epoch = 10\n",
    "hidden_size = 1000\n",
    "\n",
    "train_set = MNIST(train = True, transform=f)\n",
    "test_set = MNIST(train = False, transform=f)\n",
    "train_loader = DataLoader(train_set , batch_size)\n",
    "test_loader = DataLoader(test_set , batch_size, shuffle=False)\n",
    "\n",
    "model = MLP((hidden_size, hidden_size,10))\n",
    "#model = MLP((hidden_size, hidden_size,10), activation=F.relu)\n",
    "optimizer = SGD().setup(model)"
   ]
  },
  {
   "cell_type": "code",
   "execution_count": 4,
   "metadata": {},
   "outputs": [],
   "source": [
    "x = np.array([val[0] for val in train_set])\n",
    "t = np.array([val[1] for val in train_set])"
   ]
  },
  {
   "cell_type": "code",
   "execution_count": 5,
   "metadata": {},
   "outputs": [
    {
     "name": "stdout",
     "output_type": "stream",
     "text": [
      "epoch 1 \n",
      "train loss: 2.2678, accuracy: 0.1723\n",
      "test loss: 2.2268, accuracy: 0.3412\n",
      "epoch 2 \n",
      "train loss: 2.1723, accuracy: 0.3681\n",
      "test loss: 2.1058, accuracy: 0.4217\n",
      "epoch 3 \n",
      "train loss: 2.0208, accuracy: 0.5160\n",
      "test loss: 1.9146, accuracy: 0.4756\n",
      "epoch 4 \n",
      "train loss: 1.7717, accuracy: 0.6151\n",
      "test loss: 1.6028, accuracy: 0.6466\n",
      "epoch 5 \n",
      "train loss: 1.4530, accuracy: 0.6848\n",
      "test loss: 1.2789, accuracy: 0.7384\n",
      "epoch 6 \n",
      "train loss: 1.1710, accuracy: 0.7383\n",
      "test loss: 1.0403, accuracy: 0.7633\n",
      "epoch 7 \n",
      "train loss: 0.9719, accuracy: 0.7771\n",
      "test loss: 0.8795, accuracy: 0.7947\n",
      "epoch 8 \n",
      "train loss: 0.8353, accuracy: 0.7990\n",
      "test loss: 0.7644, accuracy: 0.8085\n",
      "epoch 9 \n",
      "train loss: 0.7381, accuracy: 0.8169\n",
      "test loss: 0.6812, accuracy: 0.8289\n",
      "epoch 10 \n",
      "train loss: 0.6659, accuracy: 0.8308\n",
      "test loss: 0.6231, accuracy: 0.8380\n"
     ]
    }
   ],
   "source": [
    "ret = {}\n",
    "ret[\"train_loss\"] = []\n",
    "ret[\"test_loss\"] = []\n",
    "ret[\"train_accuracy\"] = []\n",
    "ret[\"test_accuracy\"] = []\n",
    "\n",
    "for epoch in range(max_epoch):\n",
    "    sum_loss, sum_acc = 0, 0    \n",
    "    \n",
    "    for x,t in train_loader:\n",
    "        y = model(x)\n",
    "        loss = F.softmax_cross_entropy_simple(y, t)\n",
    "        acc = F.accuracy(y, t)\n",
    "        model.cleargrads()\n",
    "        loss.backward()\n",
    "        optimizer.update()\n",
    "        \n",
    "        sum_loss += float(loss.data) * len(t)\n",
    "        sum_acc += float(acc.data) * len(t)\n",
    "        \n",
    "    print(\"epoch %d \" % (epoch+1))\n",
    "    print(\"train loss: {:.4f}, accuracy: {:.4f}\".format(sum_loss / len(train_set), sum_acc / len(train_set)))\n",
    "    ret[\"train_loss\"].append(sum_loss / len(train_set))\n",
    "    ret[\"train_accuracy\"].append(sum_acc / len(train_set))\n",
    "        \n",
    "    sum_loss, sum_acc = 0,0\n",
    "    with DiffEqPy.no_grad():\n",
    "        for x,t in test_loader:\n",
    "            y = model(x)\n",
    "            loss = F.softmax_cross_entropy_simple(y, t)\n",
    "            acc = F.accuracy(y,t)\n",
    "            sum_loss += float(loss.data) * len(t)\n",
    "            sum_acc += float(acc.data) * len(t)\n",
    "    print(\"test loss: {:.4f}, accuracy: {:.4f}\".format(sum_loss / len(test_set), sum_acc / len(test_set)))\n",
    "    ret[\"test_loss\"].append(sum_loss / len(test_set))\n",
    "    ret[\"test_accuracy\"].append(sum_acc / len(test_set))"
   ]
  },
  {
   "cell_type": "code",
   "execution_count": 6,
   "metadata": {},
   "outputs": [
    {
     "data": {
      "text/plain": [
       "[<matplotlib.lines.Line2D at 0x7fa151044e20>]"
      ]
     },
     "execution_count": 6,
     "metadata": {},
     "output_type": "execute_result"
    },
    {
     "data": {
      "image/png": "[encoded data removed]",
      "text/plain": [
       "<Figure size 432x288 with 1 Axes>"
      ]
     },
     "metadata": {
      "needs_background": "light"
     },
     "output_type": "display_data"
    }
   ],
   "source": [
    "plt.plot(ret[\"train_loss\"])\n",
    "plt.plot(ret[\"test_loss\"])"
   ]
  },
  {
   "cell_type": "code",
   "execution_count": 7,
   "metadata": {},
   "outputs": [
    {
     "data": {
      "text/plain": [
       "[<matplotlib.lines.Line2D at 0x7fa151222ee0>]"
      ]
     },
     "execution_count": 7,
     "metadata": {},
     "output_type": "execute_result"
    },
    {
     "data": {
      "image/png": "[encoded data removed]",
      "text/plain": [
       "<Figure size 432x288 with 1 Axes>"
      ]
     },
     "metadata": {
      "needs_background": "light"
     },
     "output_type": "display_data"
    }
   ],
   "source": [
    "plt.plot(ret[\"train_accuracy\"])\n",
    "plt.plot(ret[\"test_accuracy\"])"
   ]
  },
  {
   "cell_type": "code",
   "execution_count": 9,
   "metadata": {},
   "outputs": [],
   "source": [
    "model.plot(x)"
   ]
  }
 ],
 "metadata": {
  "kernelspec": {
   "display_name": "Python 3",
   "language": "python",
   "name": "python3"
  },
  "language_info": {
   "codemirror_mode": {
    "name": "ipython",
    "version": 3
   },
   "file_extension": ".py",
   "mimetype": "text/x-python",
   "name": "python",
   "nbconvert_exporter": "python",
   "pygments_lexer": "ipython3",
   "version": "3.8.5"
  }
 },
 "nbformat": 4,
 "nbformat_minor": 4
}
